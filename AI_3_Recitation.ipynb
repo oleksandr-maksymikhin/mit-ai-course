{
  "nbformat": 4,
  "nbformat_minor": 0,
  "metadata": {
    "colab": {
      "provenance": [],
      "include_colab_link": true
    },
    "kernelspec": {
      "name": "python3",
      "display_name": "Python 3"
    },
    "language_info": {
      "name": "python"
    }
  },
  "cells": [
    {
      "cell_type": "markdown",
      "metadata": {
        "id": "view-in-github",
        "colab_type": "text"
      },
      "source": [
        "<a href=\"https://colab.research.google.com/github/oleksandr-maksymikhin/mit-ai-course/blob/main/AI_3_Recitation.ipynb\" target=\"_parent\"><img src=\"https://colab.research.google.com/assets/colab-badge.svg\" alt=\"Open In Colab\"/></a>"
      ]
    },
    {
      "cell_type": "markdown",
      "source": [
        "# **Clustering**\n",
        "\n",
        "Clustering is an unsupervised learning technique used in descriptive analytics to group similar data points together. Unlike classification and regression(supervised learning), clustering does not have predefined labels or targets. Instead, the algorithm discovers patterns in the data based on similarities. Clustering is commonly used in customer segmentation, anomaly detection, and exploratory data analysis."
      ],
      "metadata": {
        "id": "fGkICbDEJMET"
      }
    },
    {
      "cell_type": "markdown",
      "source": [
        "# **DATA OVERVIEW:**\n",
        "We utilize the Heart Failure Clinical Records Data Set (Heart Failure Clinical Records [Dataset]. (2020). UCI Machine Learning Repository. https://doi.org/10.24432/C5Z89R.), a dataset that contains the medical records of 299 patients who had heart failure, collected during their follow-up period.\n",
        "The original dataset, which you will find in the file heart_failure.csv, consists of about 300 data points and the following 13 features:\n",
        "- Age: age of the patient (years).\n",
        "- Anaemia: decrease of red blood cells or hemoglobin (boolean).\n",
        "- High blood pressure: if the patient has hypertension (boolean).\n",
        "- Creatinine phosphokinase (CPK): level of the CPK enzyme in the blood (mcg/L).\n",
        "- Diabetes: if the patient has diabetes (boolean).\n",
        "- Ejection fraction: percentage of blood leaving the heart at each contraction (percentage).\n",
        "- Platelets: platelets in the blood (kiloplatelets/mL).\n",
        "- Sex: woman or man (binary).\n",
        "- Serum creatinine: level of serum creatinine in the blood (mg/dL).\n",
        "- Serum sodium: level of serum sodium in the blood (mEq/L).\n",
        "- Smoking: if the patient smokes or not (boolean).\n",
        "- Time: follow-up period (days).\n",
        "- Death event: if the patient deceased during the follow-up period (boolean).\n",
        "\n",
        "# **GOAL:**\n",
        "To better understand the factors that are critical for different types of heart failure patients, we are interested\n",
        "in clustering our data."
      ],
      "metadata": {
        "id": "3cy2DIaYZEli"
      }
    },
    {
      "cell_type": "code",
      "execution_count": null,
      "metadata": {
        "colab": {
          "base_uri": "https://localhost:8080/"
        },
        "id": "ZzUQ1HlQU2sn",
        "outputId": "ce9a2b53-cb70-4c2a-8472-efe5c9f92080"
      },
      "outputs": [
        {
          "output_type": "stream",
          "name": "stdout",
          "text": [
            "<class 'pandas.core.frame.DataFrame'>\n",
            "RangeIndex: 299 entries, 0 to 298\n",
            "Data columns (total 13 columns):\n",
            " #   Column                    Non-Null Count  Dtype  \n",
            "---  ------                    --------------  -----  \n",
            " 0   age                       299 non-null    float64\n",
            " 1   anaemia                   299 non-null    int64  \n",
            " 2   creatinine_phosphokinase  299 non-null    int64  \n",
            " 3   diabetes                  299 non-null    int64  \n",
            " 4   ejection_fraction         299 non-null    int64  \n",
            " 5   high_blood_pressure       299 non-null    int64  \n",
            " 6   platelets                 299 non-null    float64\n",
            " 7   serum_creatinine          299 non-null    float64\n",
            " 8   serum_sodium              299 non-null    int64  \n",
            " 9   sex                       299 non-null    int64  \n",
            " 10  smoking                   299 non-null    int64  \n",
            " 11  time                      299 non-null    int64  \n",
            " 12  DEATH_EVENT               299 non-null    int64  \n",
            "dtypes: float64(3), int64(10)\n",
            "memory usage: 30.5 KB\n",
            "None\n"
          ]
        }
      ],
      "source": [
        "import pandas as pd\n",
        "import numpy as np\n",
        "import matplotlib.pyplot as plt\n",
        "from sklearn.preprocessing import MinMaxScaler\n",
        "from scipy.cluster.hierarchy import linkage, dendrogram, fcluster\n",
        "from sklearn.tree import DecisionTreeClassifier, plot_tree\n",
        "from sklearn.cluster import KMeans\n",
        "from sklearn.model_selection import train_test_split\n",
        "from sklearn.metrics import pairwise_distances, accuracy_score\n",
        "\n",
        "# Read in the data file:\n",
        "data = pd.read_csv(\"heart_failure.csv\")\n",
        "\n",
        "# Basic data exploration:\n",
        "print(data.info())"
      ]
    },
    {
      "cell_type": "code",
      "source": [
        "data"
      ],
      "metadata": {
        "colab": {
          "base_uri": "https://localhost:8080/",
          "height": 444
        },
        "id": "f35WQJrO2d2v",
        "outputId": "1e6460d5-b5a2-4b6e-8014-148a5ff3c8e4"
      },
      "execution_count": null,
      "outputs": [
        {
          "output_type": "execute_result",
          "data": {
            "text/plain": [
              "      age  anaemia  creatinine_phosphokinase  diabetes  ejection_fraction  \\\n",
              "0    75.0        0                       582         0                 20   \n",
              "1    55.0        0                      7861         0                 38   \n",
              "2    65.0        0                       146         0                 20   \n",
              "3    50.0        1                       111         0                 20   \n",
              "4    65.0        1                       160         1                 20   \n",
              "..    ...      ...                       ...       ...                ...   \n",
              "294  62.0        0                        61         1                 38   \n",
              "295  55.0        0                      1820         0                 38   \n",
              "296  45.0        0                      2060         1                 60   \n",
              "297  45.0        0                      2413         0                 38   \n",
              "298  50.0        0                       196         0                 45   \n",
              "\n",
              "     high_blood_pressure  platelets  serum_creatinine  serum_sodium  sex  \\\n",
              "0                      1  265000.00               1.9           130    1   \n",
              "1                      0  263358.03               1.1           136    1   \n",
              "2                      0  162000.00               1.3           129    1   \n",
              "3                      0  210000.00               1.9           137    1   \n",
              "4                      0  327000.00               2.7           116    0   \n",
              "..                   ...        ...               ...           ...  ...   \n",
              "294                    1  155000.00               1.1           143    1   \n",
              "295                    0  270000.00               1.2           139    0   \n",
              "296                    0  742000.00               0.8           138    0   \n",
              "297                    0  140000.00               1.4           140    1   \n",
              "298                    0  395000.00               1.6           136    1   \n",
              "\n",
              "     smoking  time  DEATH_EVENT  \n",
              "0          0     4            1  \n",
              "1          0     6            1  \n",
              "2          1     7            1  \n",
              "3          0     7            1  \n",
              "4          0     8            1  \n",
              "..       ...   ...          ...  \n",
              "294        1   270            0  \n",
              "295        0   271            0  \n",
              "296        0   278            0  \n",
              "297        1   280            0  \n",
              "298        1   285            0  \n",
              "\n",
              "[299 rows x 13 columns]"
            ],
            "text/html": [
              "\n",
              "  <div id=\"df-1ee5a86c-3fef-45b4-8703-d9d5f67649d4\" class=\"colab-df-container\">\n",
              "    <div>\n",
              "<style scoped>\n",
              "    .dataframe tbody tr th:only-of-type {\n",
              "        vertical-align: middle;\n",
              "    }\n",
              "\n",
              "    .dataframe tbody tr th {\n",
              "        vertical-align: top;\n",
              "    }\n",
              "\n",
              "    .dataframe thead th {\n",
              "        text-align: right;\n",
              "    }\n",
              "</style>\n",
              "<table border=\"1\" class=\"dataframe\">\n",
              "  <thead>\n",
              "    <tr style=\"text-align: right;\">\n",
              "      <th></th>\n",
              "      <th>age</th>\n",
              "      <th>anaemia</th>\n",
              "      <th>creatinine_phosphokinase</th>\n",
              "      <th>diabetes</th>\n",
              "      <th>ejection_fraction</th>\n",
              "      <th>high_blood_pressure</th>\n",
              "      <th>platelets</th>\n",
              "      <th>serum_creatinine</th>\n",
              "      <th>serum_sodium</th>\n",
              "      <th>sex</th>\n",
              "      <th>smoking</th>\n",
              "      <th>time</th>\n",
              "      <th>DEATH_EVENT</th>\n",
              "    </tr>\n",
              "  </thead>\n",
              "  <tbody>\n",
              "    <tr>\n",
              "      <th>0</th>\n",
              "      <td>75.0</td>\n",
              "      <td>0</td>\n",
              "      <td>582</td>\n",
              "      <td>0</td>\n",
              "      <td>20</td>\n",
              "      <td>1</td>\n",
              "      <td>265000.00</td>\n",
              "      <td>1.9</td>\n",
              "      <td>130</td>\n",
              "      <td>1</td>\n",
              "      <td>0</td>\n",
              "      <td>4</td>\n",
              "      <td>1</td>\n",
              "    </tr>\n",
              "    <tr>\n",
              "      <th>1</th>\n",
              "      <td>55.0</td>\n",
              "      <td>0</td>\n",
              "      <td>7861</td>\n",
              "      <td>0</td>\n",
              "      <td>38</td>\n",
              "      <td>0</td>\n",
              "      <td>263358.03</td>\n",
              "      <td>1.1</td>\n",
              "      <td>136</td>\n",
              "      <td>1</td>\n",
              "      <td>0</td>\n",
              "      <td>6</td>\n",
              "      <td>1</td>\n",
              "    </tr>\n",
              "    <tr>\n",
              "      <th>2</th>\n",
              "      <td>65.0</td>\n",
              "      <td>0</td>\n",
              "      <td>146</td>\n",
              "      <td>0</td>\n",
              "      <td>20</td>\n",
              "      <td>0</td>\n",
              "      <td>162000.00</td>\n",
              "      <td>1.3</td>\n",
              "      <td>129</td>\n",
              "      <td>1</td>\n",
              "      <td>1</td>\n",
              "      <td>7</td>\n",
              "      <td>1</td>\n",
              "    </tr>\n",
              "    <tr>\n",
              "      <th>3</th>\n",
              "      <td>50.0</td>\n",
              "      <td>1</td>\n",
              "      <td>111</td>\n",
              "      <td>0</td>\n",
              "      <td>20</td>\n",
              "      <td>0</td>\n",
              "      <td>210000.00</td>\n",
              "      <td>1.9</td>\n",
              "      <td>137</td>\n",
              "      <td>1</td>\n",
              "      <td>0</td>\n",
              "      <td>7</td>\n",
              "      <td>1</td>\n",
              "    </tr>\n",
              "    <tr>\n",
              "      <th>4</th>\n",
              "      <td>65.0</td>\n",
              "      <td>1</td>\n",
              "      <td>160</td>\n",
              "      <td>1</td>\n",
              "      <td>20</td>\n",
              "      <td>0</td>\n",
              "      <td>327000.00</td>\n",
              "      <td>2.7</td>\n",
              "      <td>116</td>\n",
              "      <td>0</td>\n",
              "      <td>0</td>\n",
              "      <td>8</td>\n",
              "      <td>1</td>\n",
              "    </tr>\n",
              "    <tr>\n",
              "      <th>...</th>\n",
              "      <td>...</td>\n",
              "      <td>...</td>\n",
              "      <td>...</td>\n",
              "      <td>...</td>\n",
              "      <td>...</td>\n",
              "      <td>...</td>\n",
              "      <td>...</td>\n",
              "      <td>...</td>\n",
              "      <td>...</td>\n",
              "      <td>...</td>\n",
              "      <td>...</td>\n",
              "      <td>...</td>\n",
              "      <td>...</td>\n",
              "    </tr>\n",
              "    <tr>\n",
              "      <th>294</th>\n",
              "      <td>62.0</td>\n",
              "      <td>0</td>\n",
              "      <td>61</td>\n",
              "      <td>1</td>\n",
              "      <td>38</td>\n",
              "      <td>1</td>\n",
              "      <td>155000.00</td>\n",
              "      <td>1.1</td>\n",
              "      <td>143</td>\n",
              "      <td>1</td>\n",
              "      <td>1</td>\n",
              "      <td>270</td>\n",
              "      <td>0</td>\n",
              "    </tr>\n",
              "    <tr>\n",
              "      <th>295</th>\n",
              "      <td>55.0</td>\n",
              "      <td>0</td>\n",
              "      <td>1820</td>\n",
              "      <td>0</td>\n",
              "      <td>38</td>\n",
              "      <td>0</td>\n",
              "      <td>270000.00</td>\n",
              "      <td>1.2</td>\n",
              "      <td>139</td>\n",
              "      <td>0</td>\n",
              "      <td>0</td>\n",
              "      <td>271</td>\n",
              "      <td>0</td>\n",
              "    </tr>\n",
              "    <tr>\n",
              "      <th>296</th>\n",
              "      <td>45.0</td>\n",
              "      <td>0</td>\n",
              "      <td>2060</td>\n",
              "      <td>1</td>\n",
              "      <td>60</td>\n",
              "      <td>0</td>\n",
              "      <td>742000.00</td>\n",
              "      <td>0.8</td>\n",
              "      <td>138</td>\n",
              "      <td>0</td>\n",
              "      <td>0</td>\n",
              "      <td>278</td>\n",
              "      <td>0</td>\n",
              "    </tr>\n",
              "    <tr>\n",
              "      <th>297</th>\n",
              "      <td>45.0</td>\n",
              "      <td>0</td>\n",
              "      <td>2413</td>\n",
              "      <td>0</td>\n",
              "      <td>38</td>\n",
              "      <td>0</td>\n",
              "      <td>140000.00</td>\n",
              "      <td>1.4</td>\n",
              "      <td>140</td>\n",
              "      <td>1</td>\n",
              "      <td>1</td>\n",
              "      <td>280</td>\n",
              "      <td>0</td>\n",
              "    </tr>\n",
              "    <tr>\n",
              "      <th>298</th>\n",
              "      <td>50.0</td>\n",
              "      <td>0</td>\n",
              "      <td>196</td>\n",
              "      <td>0</td>\n",
              "      <td>45</td>\n",
              "      <td>0</td>\n",
              "      <td>395000.00</td>\n",
              "      <td>1.6</td>\n",
              "      <td>136</td>\n",
              "      <td>1</td>\n",
              "      <td>1</td>\n",
              "      <td>285</td>\n",
              "      <td>0</td>\n",
              "    </tr>\n",
              "  </tbody>\n",
              "</table>\n",
              "<p>299 rows × 13 columns</p>\n",
              "</div>\n",
              "    <div class=\"colab-df-buttons\">\n",
              "\n",
              "  <div class=\"colab-df-container\">\n",
              "    <button class=\"colab-df-convert\" onclick=\"convertToInteractive('df-1ee5a86c-3fef-45b4-8703-d9d5f67649d4')\"\n",
              "            title=\"Convert this dataframe to an interactive table.\"\n",
              "            style=\"display:none;\">\n",
              "\n",
              "  <svg xmlns=\"http://www.w3.org/2000/svg\" height=\"24px\" viewBox=\"0 -960 960 960\">\n",
              "    <path d=\"M120-120v-720h720v720H120Zm60-500h600v-160H180v160Zm220 220h160v-160H400v160Zm0 220h160v-160H400v160ZM180-400h160v-160H180v160Zm440 0h160v-160H620v160ZM180-180h160v-160H180v160Zm440 0h160v-160H620v160Z\"/>\n",
              "  </svg>\n",
              "    </button>\n",
              "\n",
              "  <style>\n",
              "    .colab-df-container {\n",
              "      display:flex;\n",
              "      gap: 12px;\n",
              "    }\n",
              "\n",
              "    .colab-df-convert {\n",
              "      background-color: #E8F0FE;\n",
              "      border: none;\n",
              "      border-radius: 50%;\n",
              "      cursor: pointer;\n",
              "      display: none;\n",
              "      fill: #1967D2;\n",
              "      height: 32px;\n",
              "      padding: 0 0 0 0;\n",
              "      width: 32px;\n",
              "    }\n",
              "\n",
              "    .colab-df-convert:hover {\n",
              "      background-color: #E2EBFA;\n",
              "      box-shadow: 0px 1px 2px rgba(60, 64, 67, 0.3), 0px 1px 3px 1px rgba(60, 64, 67, 0.15);\n",
              "      fill: #174EA6;\n",
              "    }\n",
              "\n",
              "    .colab-df-buttons div {\n",
              "      margin-bottom: 4px;\n",
              "    }\n",
              "\n",
              "    [theme=dark] .colab-df-convert {\n",
              "      background-color: #3B4455;\n",
              "      fill: #D2E3FC;\n",
              "    }\n",
              "\n",
              "    [theme=dark] .colab-df-convert:hover {\n",
              "      background-color: #434B5C;\n",
              "      box-shadow: 0px 1px 3px 1px rgba(0, 0, 0, 0.15);\n",
              "      filter: drop-shadow(0px 1px 2px rgba(0, 0, 0, 0.3));\n",
              "      fill: #FFFFFF;\n",
              "    }\n",
              "  </style>\n",
              "\n",
              "    <script>\n",
              "      const buttonEl =\n",
              "        document.querySelector('#df-1ee5a86c-3fef-45b4-8703-d9d5f67649d4 button.colab-df-convert');\n",
              "      buttonEl.style.display =\n",
              "        google.colab.kernel.accessAllowed ? 'block' : 'none';\n",
              "\n",
              "      async function convertToInteractive(key) {\n",
              "        const element = document.querySelector('#df-1ee5a86c-3fef-45b4-8703-d9d5f67649d4');\n",
              "        const dataTable =\n",
              "          await google.colab.kernel.invokeFunction('convertToInteractive',\n",
              "                                                    [key], {});\n",
              "        if (!dataTable) return;\n",
              "\n",
              "        const docLinkHtml = 'Like what you see? Visit the ' +\n",
              "          '<a target=\"_blank\" href=https://colab.research.google.com/notebooks/data_table.ipynb>data table notebook</a>'\n",
              "          + ' to learn more about interactive tables.';\n",
              "        element.innerHTML = '';\n",
              "        dataTable['output_type'] = 'display_data';\n",
              "        await google.colab.output.renderOutput(dataTable, element);\n",
              "        const docLink = document.createElement('div');\n",
              "        docLink.innerHTML = docLinkHtml;\n",
              "        element.appendChild(docLink);\n",
              "      }\n",
              "    </script>\n",
              "  </div>\n",
              "\n",
              "\n",
              "    <div id=\"df-6ca82659-fe0e-49ae-b5c6-c0f9e227ee2a\">\n",
              "      <button class=\"colab-df-quickchart\" onclick=\"quickchart('df-6ca82659-fe0e-49ae-b5c6-c0f9e227ee2a')\"\n",
              "                title=\"Suggest charts\"\n",
              "                style=\"display:none;\">\n",
              "\n",
              "<svg xmlns=\"http://www.w3.org/2000/svg\" height=\"24px\"viewBox=\"0 0 24 24\"\n",
              "     width=\"24px\">\n",
              "    <g>\n",
              "        <path d=\"M19 3H5c-1.1 0-2 .9-2 2v14c0 1.1.9 2 2 2h14c1.1 0 2-.9 2-2V5c0-1.1-.9-2-2-2zM9 17H7v-7h2v7zm4 0h-2V7h2v10zm4 0h-2v-4h2v4z\"/>\n",
              "    </g>\n",
              "</svg>\n",
              "      </button>\n",
              "\n",
              "<style>\n",
              "  .colab-df-quickchart {\n",
              "      --bg-color: #E8F0FE;\n",
              "      --fill-color: #1967D2;\n",
              "      --hover-bg-color: #E2EBFA;\n",
              "      --hover-fill-color: #174EA6;\n",
              "      --disabled-fill-color: #AAA;\n",
              "      --disabled-bg-color: #DDD;\n",
              "  }\n",
              "\n",
              "  [theme=dark] .colab-df-quickchart {\n",
              "      --bg-color: #3B4455;\n",
              "      --fill-color: #D2E3FC;\n",
              "      --hover-bg-color: #434B5C;\n",
              "      --hover-fill-color: #FFFFFF;\n",
              "      --disabled-bg-color: #3B4455;\n",
              "      --disabled-fill-color: #666;\n",
              "  }\n",
              "\n",
              "  .colab-df-quickchart {\n",
              "    background-color: var(--bg-color);\n",
              "    border: none;\n",
              "    border-radius: 50%;\n",
              "    cursor: pointer;\n",
              "    display: none;\n",
              "    fill: var(--fill-color);\n",
              "    height: 32px;\n",
              "    padding: 0;\n",
              "    width: 32px;\n",
              "  }\n",
              "\n",
              "  .colab-df-quickchart:hover {\n",
              "    background-color: var(--hover-bg-color);\n",
              "    box-shadow: 0 1px 2px rgba(60, 64, 67, 0.3), 0 1px 3px 1px rgba(60, 64, 67, 0.15);\n",
              "    fill: var(--button-hover-fill-color);\n",
              "  }\n",
              "\n",
              "  .colab-df-quickchart-complete:disabled,\n",
              "  .colab-df-quickchart-complete:disabled:hover {\n",
              "    background-color: var(--disabled-bg-color);\n",
              "    fill: var(--disabled-fill-color);\n",
              "    box-shadow: none;\n",
              "  }\n",
              "\n",
              "  .colab-df-spinner {\n",
              "    border: 2px solid var(--fill-color);\n",
              "    border-color: transparent;\n",
              "    border-bottom-color: var(--fill-color);\n",
              "    animation:\n",
              "      spin 1s steps(1) infinite;\n",
              "  }\n",
              "\n",
              "  @keyframes spin {\n",
              "    0% {\n",
              "      border-color: transparent;\n",
              "      border-bottom-color: var(--fill-color);\n",
              "      border-left-color: var(--fill-color);\n",
              "    }\n",
              "    20% {\n",
              "      border-color: transparent;\n",
              "      border-left-color: var(--fill-color);\n",
              "      border-top-color: var(--fill-color);\n",
              "    }\n",
              "    30% {\n",
              "      border-color: transparent;\n",
              "      border-left-color: var(--fill-color);\n",
              "      border-top-color: var(--fill-color);\n",
              "      border-right-color: var(--fill-color);\n",
              "    }\n",
              "    40% {\n",
              "      border-color: transparent;\n",
              "      border-right-color: var(--fill-color);\n",
              "      border-top-color: var(--fill-color);\n",
              "    }\n",
              "    60% {\n",
              "      border-color: transparent;\n",
              "      border-right-color: var(--fill-color);\n",
              "    }\n",
              "    80% {\n",
              "      border-color: transparent;\n",
              "      border-right-color: var(--fill-color);\n",
              "      border-bottom-color: var(--fill-color);\n",
              "    }\n",
              "    90% {\n",
              "      border-color: transparent;\n",
              "      border-bottom-color: var(--fill-color);\n",
              "    }\n",
              "  }\n",
              "</style>\n",
              "\n",
              "      <script>\n",
              "        async function quickchart(key) {\n",
              "          const quickchartButtonEl =\n",
              "            document.querySelector('#' + key + ' button');\n",
              "          quickchartButtonEl.disabled = true;  // To prevent multiple clicks.\n",
              "          quickchartButtonEl.classList.add('colab-df-spinner');\n",
              "          try {\n",
              "            const charts = await google.colab.kernel.invokeFunction(\n",
              "                'suggestCharts', [key], {});\n",
              "          } catch (error) {\n",
              "            console.error('Error during call to suggestCharts:', error);\n",
              "          }\n",
              "          quickchartButtonEl.classList.remove('colab-df-spinner');\n",
              "          quickchartButtonEl.classList.add('colab-df-quickchart-complete');\n",
              "        }\n",
              "        (() => {\n",
              "          let quickchartButtonEl =\n",
              "            document.querySelector('#df-6ca82659-fe0e-49ae-b5c6-c0f9e227ee2a button');\n",
              "          quickchartButtonEl.style.display =\n",
              "            google.colab.kernel.accessAllowed ? 'block' : 'none';\n",
              "        })();\n",
              "      </script>\n",
              "    </div>\n",
              "\n",
              "  <div id=\"id_09d5947e-7a27-4d6f-9d8a-cab3499ef12c\">\n",
              "    <style>\n",
              "      .colab-df-generate {\n",
              "        background-color: #E8F0FE;\n",
              "        border: none;\n",
              "        border-radius: 50%;\n",
              "        cursor: pointer;\n",
              "        display: none;\n",
              "        fill: #1967D2;\n",
              "        height: 32px;\n",
              "        padding: 0 0 0 0;\n",
              "        width: 32px;\n",
              "      }\n",
              "\n",
              "      .colab-df-generate:hover {\n",
              "        background-color: #E2EBFA;\n",
              "        box-shadow: 0px 1px 2px rgba(60, 64, 67, 0.3), 0px 1px 3px 1px rgba(60, 64, 67, 0.15);\n",
              "        fill: #174EA6;\n",
              "      }\n",
              "\n",
              "      [theme=dark] .colab-df-generate {\n",
              "        background-color: #3B4455;\n",
              "        fill: #D2E3FC;\n",
              "      }\n",
              "\n",
              "      [theme=dark] .colab-df-generate:hover {\n",
              "        background-color: #434B5C;\n",
              "        box-shadow: 0px 1px 3px 1px rgba(0, 0, 0, 0.15);\n",
              "        filter: drop-shadow(0px 1px 2px rgba(0, 0, 0, 0.3));\n",
              "        fill: #FFFFFF;\n",
              "      }\n",
              "    </style>\n",
              "    <button class=\"colab-df-generate\" onclick=\"generateWithVariable('data')\"\n",
              "            title=\"Generate code using this dataframe.\"\n",
              "            style=\"display:none;\">\n",
              "\n",
              "  <svg xmlns=\"http://www.w3.org/2000/svg\" height=\"24px\"viewBox=\"0 0 24 24\"\n",
              "       width=\"24px\">\n",
              "    <path d=\"M7,19H8.4L18.45,9,17,7.55,7,17.6ZM5,21V16.75L18.45,3.32a2,2,0,0,1,2.83,0l1.4,1.43a1.91,1.91,0,0,1,.58,1.4,1.91,1.91,0,0,1-.58,1.4L9.25,21ZM18.45,9,17,7.55Zm-12,3A5.31,5.31,0,0,0,4.9,8.1,5.31,5.31,0,0,0,1,6.5,5.31,5.31,0,0,0,4.9,4.9,5.31,5.31,0,0,0,6.5,1,5.31,5.31,0,0,0,8.1,4.9,5.31,5.31,0,0,0,12,6.5,5.46,5.46,0,0,0,6.5,12Z\"/>\n",
              "  </svg>\n",
              "    </button>\n",
              "    <script>\n",
              "      (() => {\n",
              "      const buttonEl =\n",
              "        document.querySelector('#id_09d5947e-7a27-4d6f-9d8a-cab3499ef12c button.colab-df-generate');\n",
              "      buttonEl.style.display =\n",
              "        google.colab.kernel.accessAllowed ? 'block' : 'none';\n",
              "\n",
              "      buttonEl.onclick = () => {\n",
              "        google.colab.notebook.generateWithVariable('data');\n",
              "      }\n",
              "      })();\n",
              "    </script>\n",
              "  </div>\n",
              "\n",
              "    </div>\n",
              "  </div>\n"
            ],
            "application/vnd.google.colaboratory.intrinsic+json": {
              "type": "dataframe",
              "variable_name": "data",
              "summary": "{\n  \"name\": \"data\",\n  \"rows\": 299,\n  \"fields\": [\n    {\n      \"column\": \"age\",\n      \"properties\": {\n        \"dtype\": \"number\",\n        \"std\": 11.894809074044478,\n        \"min\": 40.0,\n        \"max\": 95.0,\n        \"num_unique_values\": 47,\n        \"samples\": [\n          79.0,\n          40.0,\n          67.0\n        ],\n        \"semantic_type\": \"\",\n        \"description\": \"\"\n      }\n    },\n    {\n      \"column\": \"anaemia\",\n      \"properties\": {\n        \"dtype\": \"number\",\n        \"std\": 0,\n        \"min\": 0,\n        \"max\": 1,\n        \"num_unique_values\": 2,\n        \"samples\": [\n          1,\n          0\n        ],\n        \"semantic_type\": \"\",\n        \"description\": \"\"\n      }\n    },\n    {\n      \"column\": \"creatinine_phosphokinase\",\n      \"properties\": {\n        \"dtype\": \"number\",\n        \"std\": 970,\n        \"min\": 23,\n        \"max\": 7861,\n        \"num_unique_values\": 208,\n        \"samples\": [\n          86,\n          379\n        ],\n        \"semantic_type\": \"\",\n        \"description\": \"\"\n      }\n    },\n    {\n      \"column\": \"diabetes\",\n      \"properties\": {\n        \"dtype\": \"number\",\n        \"std\": 0,\n        \"min\": 0,\n        \"max\": 1,\n        \"num_unique_values\": 2,\n        \"samples\": [\n          1,\n          0\n        ],\n        \"semantic_type\": \"\",\n        \"description\": \"\"\n      }\n    },\n    {\n      \"column\": \"ejection_fraction\",\n      \"properties\": {\n        \"dtype\": \"number\",\n        \"std\": 11,\n        \"min\": 14,\n        \"max\": 80,\n        \"num_unique_values\": 17,\n        \"samples\": [\n          20,\n          38\n        ],\n        \"semantic_type\": \"\",\n        \"description\": \"\"\n      }\n    },\n    {\n      \"column\": \"high_blood_pressure\",\n      \"properties\": {\n        \"dtype\": \"number\",\n        \"std\": 0,\n        \"min\": 0,\n        \"max\": 1,\n        \"num_unique_values\": 2,\n        \"samples\": [\n          0,\n          1\n        ],\n        \"semantic_type\": \"\",\n        \"description\": \"\"\n      }\n    },\n    {\n      \"column\": \"platelets\",\n      \"properties\": {\n        \"dtype\": \"number\",\n        \"std\": 97804.23686859828,\n        \"min\": 25100.0,\n        \"max\": 850000.0,\n        \"num_unique_values\": 176,\n        \"samples\": [\n          297000.0,\n          255000.0\n        ],\n        \"semantic_type\": \"\",\n        \"description\": \"\"\n      }\n    },\n    {\n      \"column\": \"serum_creatinine\",\n      \"properties\": {\n        \"dtype\": \"number\",\n        \"std\": 1.034510064089853,\n        \"min\": 0.5,\n        \"max\": 9.4,\n        \"num_unique_values\": 40,\n        \"samples\": [\n          4.4,\n          3.5\n        ],\n        \"semantic_type\": \"\",\n        \"description\": \"\"\n      }\n    },\n    {\n      \"column\": \"serum_sodium\",\n      \"properties\": {\n        \"dtype\": \"number\",\n        \"std\": 4,\n        \"min\": 113,\n        \"max\": 148,\n        \"num_unique_values\": 27,\n        \"samples\": [\n          133,\n          134\n        ],\n        \"semantic_type\": \"\",\n        \"description\": \"\"\n      }\n    },\n    {\n      \"column\": \"sex\",\n      \"properties\": {\n        \"dtype\": \"number\",\n        \"std\": 0,\n        \"min\": 0,\n        \"max\": 1,\n        \"num_unique_values\": 2,\n        \"samples\": [\n          0,\n          1\n        ],\n        \"semantic_type\": \"\",\n        \"description\": \"\"\n      }\n    },\n    {\n      \"column\": \"smoking\",\n      \"properties\": {\n        \"dtype\": \"number\",\n        \"std\": 0,\n        \"min\": 0,\n        \"max\": 1,\n        \"num_unique_values\": 2,\n        \"samples\": [\n          1,\n          0\n        ],\n        \"semantic_type\": \"\",\n        \"description\": \"\"\n      }\n    },\n    {\n      \"column\": \"time\",\n      \"properties\": {\n        \"dtype\": \"number\",\n        \"std\": 77,\n        \"min\": 4,\n        \"max\": 285,\n        \"num_unique_values\": 148,\n        \"samples\": [\n          215,\n          79\n        ],\n        \"semantic_type\": \"\",\n        \"description\": \"\"\n      }\n    },\n    {\n      \"column\": \"DEATH_EVENT\",\n      \"properties\": {\n        \"dtype\": \"number\",\n        \"std\": 0,\n        \"min\": 0,\n        \"max\": 1,\n        \"num_unique_values\": 2,\n        \"samples\": [\n          0,\n          1\n        ],\n        \"semantic_type\": \"\",\n        \"description\": \"\"\n      }\n    }\n  ]\n}"
            }
          },
          "metadata": {},
          "execution_count": 2
        }
      ]
    },
    {
      "cell_type": "markdown",
      "source": [
        "Let's take a look at the data"
      ],
      "metadata": {
        "id": "TrUXZdIk-q1T"
      }
    },
    {
      "cell_type": "code",
      "source": [
        "# Describe statistics\n",
        "data.describe().loc[['max', 'min', 'mean', '50%', 'std']]"
      ],
      "metadata": {
        "colab": {
          "base_uri": "https://localhost:8080/",
          "height": 226
        },
        "id": "0ALLjKs1-pnQ",
        "outputId": "ac8bf1a7-7334-4af4-8895-1055bd083f79"
      },
      "execution_count": null,
      "outputs": [
        {
          "output_type": "execute_result",
          "data": {
            "text/plain": [
              "            age   anaemia  creatinine_phosphokinase  diabetes  \\\n",
              "max   95.000000  1.000000               7861.000000  1.000000   \n",
              "min   40.000000  0.000000                 23.000000  0.000000   \n",
              "mean  60.833893  0.431438                581.839465  0.418060   \n",
              "50%   60.000000  0.000000                250.000000  0.000000   \n",
              "std   11.894809  0.496107                970.287881  0.494067   \n",
              "\n",
              "      ejection_fraction  high_blood_pressure      platelets  serum_creatinine  \\\n",
              "max           80.000000             1.000000  850000.000000           9.40000   \n",
              "min           14.000000             0.000000   25100.000000           0.50000   \n",
              "mean          38.083612             0.351171  263358.029264           1.39388   \n",
              "50%           38.000000             0.000000  262000.000000           1.10000   \n",
              "std           11.834841             0.478136   97804.236869           1.03451   \n",
              "\n",
              "      serum_sodium       sex  smoking        time  DEATH_EVENT  \n",
              "max     148.000000  1.000000  1.00000  285.000000      1.00000  \n",
              "min     113.000000  0.000000  0.00000    4.000000      0.00000  \n",
              "mean    136.625418  0.648829  0.32107  130.260870      0.32107  \n",
              "50%     137.000000  1.000000  0.00000  115.000000      0.00000  \n",
              "std       4.412477  0.478136  0.46767   77.614208      0.46767  "
            ],
            "text/html": [
              "\n",
              "  <div id=\"df-d656b69a-a739-4eb9-80b3-fbfe3eb652d1\" class=\"colab-df-container\">\n",
              "    <div>\n",
              "<style scoped>\n",
              "    .dataframe tbody tr th:only-of-type {\n",
              "        vertical-align: middle;\n",
              "    }\n",
              "\n",
              "    .dataframe tbody tr th {\n",
              "        vertical-align: top;\n",
              "    }\n",
              "\n",
              "    .dataframe thead th {\n",
              "        text-align: right;\n",
              "    }\n",
              "</style>\n",
              "<table border=\"1\" class=\"dataframe\">\n",
              "  <thead>\n",
              "    <tr style=\"text-align: right;\">\n",
              "      <th></th>\n",
              "      <th>age</th>\n",
              "      <th>anaemia</th>\n",
              "      <th>creatinine_phosphokinase</th>\n",
              "      <th>diabetes</th>\n",
              "      <th>ejection_fraction</th>\n",
              "      <th>high_blood_pressure</th>\n",
              "      <th>platelets</th>\n",
              "      <th>serum_creatinine</th>\n",
              "      <th>serum_sodium</th>\n",
              "      <th>sex</th>\n",
              "      <th>smoking</th>\n",
              "      <th>time</th>\n",
              "      <th>DEATH_EVENT</th>\n",
              "    </tr>\n",
              "  </thead>\n",
              "  <tbody>\n",
              "    <tr>\n",
              "      <th>max</th>\n",
              "      <td>95.000000</td>\n",
              "      <td>1.000000</td>\n",
              "      <td>7861.000000</td>\n",
              "      <td>1.000000</td>\n",
              "      <td>80.000000</td>\n",
              "      <td>1.000000</td>\n",
              "      <td>850000.000000</td>\n",
              "      <td>9.40000</td>\n",
              "      <td>148.000000</td>\n",
              "      <td>1.000000</td>\n",
              "      <td>1.00000</td>\n",
              "      <td>285.000000</td>\n",
              "      <td>1.00000</td>\n",
              "    </tr>\n",
              "    <tr>\n",
              "      <th>min</th>\n",
              "      <td>40.000000</td>\n",
              "      <td>0.000000</td>\n",
              "      <td>23.000000</td>\n",
              "      <td>0.000000</td>\n",
              "      <td>14.000000</td>\n",
              "      <td>0.000000</td>\n",
              "      <td>25100.000000</td>\n",
              "      <td>0.50000</td>\n",
              "      <td>113.000000</td>\n",
              "      <td>0.000000</td>\n",
              "      <td>0.00000</td>\n",
              "      <td>4.000000</td>\n",
              "      <td>0.00000</td>\n",
              "    </tr>\n",
              "    <tr>\n",
              "      <th>mean</th>\n",
              "      <td>60.833893</td>\n",
              "      <td>0.431438</td>\n",
              "      <td>581.839465</td>\n",
              "      <td>0.418060</td>\n",
              "      <td>38.083612</td>\n",
              "      <td>0.351171</td>\n",
              "      <td>263358.029264</td>\n",
              "      <td>1.39388</td>\n",
              "      <td>136.625418</td>\n",
              "      <td>0.648829</td>\n",
              "      <td>0.32107</td>\n",
              "      <td>130.260870</td>\n",
              "      <td>0.32107</td>\n",
              "    </tr>\n",
              "    <tr>\n",
              "      <th>50%</th>\n",
              "      <td>60.000000</td>\n",
              "      <td>0.000000</td>\n",
              "      <td>250.000000</td>\n",
              "      <td>0.000000</td>\n",
              "      <td>38.000000</td>\n",
              "      <td>0.000000</td>\n",
              "      <td>262000.000000</td>\n",
              "      <td>1.10000</td>\n",
              "      <td>137.000000</td>\n",
              "      <td>1.000000</td>\n",
              "      <td>0.00000</td>\n",
              "      <td>115.000000</td>\n",
              "      <td>0.00000</td>\n",
              "    </tr>\n",
              "    <tr>\n",
              "      <th>std</th>\n",
              "      <td>11.894809</td>\n",
              "      <td>0.496107</td>\n",
              "      <td>970.287881</td>\n",
              "      <td>0.494067</td>\n",
              "      <td>11.834841</td>\n",
              "      <td>0.478136</td>\n",
              "      <td>97804.236869</td>\n",
              "      <td>1.03451</td>\n",
              "      <td>4.412477</td>\n",
              "      <td>0.478136</td>\n",
              "      <td>0.46767</td>\n",
              "      <td>77.614208</td>\n",
              "      <td>0.46767</td>\n",
              "    </tr>\n",
              "  </tbody>\n",
              "</table>\n",
              "</div>\n",
              "    <div class=\"colab-df-buttons\">\n",
              "\n",
              "  <div class=\"colab-df-container\">\n",
              "    <button class=\"colab-df-convert\" onclick=\"convertToInteractive('df-d656b69a-a739-4eb9-80b3-fbfe3eb652d1')\"\n",
              "            title=\"Convert this dataframe to an interactive table.\"\n",
              "            style=\"display:none;\">\n",
              "\n",
              "  <svg xmlns=\"http://www.w3.org/2000/svg\" height=\"24px\" viewBox=\"0 -960 960 960\">\n",
              "    <path d=\"M120-120v-720h720v720H120Zm60-500h600v-160H180v160Zm220 220h160v-160H400v160Zm0 220h160v-160H400v160ZM180-400h160v-160H180v160Zm440 0h160v-160H620v160ZM180-180h160v-160H180v160Zm440 0h160v-160H620v160Z\"/>\n",
              "  </svg>\n",
              "    </button>\n",
              "\n",
              "  <style>\n",
              "    .colab-df-container {\n",
              "      display:flex;\n",
              "      gap: 12px;\n",
              "    }\n",
              "\n",
              "    .colab-df-convert {\n",
              "      background-color: #E8F0FE;\n",
              "      border: none;\n",
              "      border-radius: 50%;\n",
              "      cursor: pointer;\n",
              "      display: none;\n",
              "      fill: #1967D2;\n",
              "      height: 32px;\n",
              "      padding: 0 0 0 0;\n",
              "      width: 32px;\n",
              "    }\n",
              "\n",
              "    .colab-df-convert:hover {\n",
              "      background-color: #E2EBFA;\n",
              "      box-shadow: 0px 1px 2px rgba(60, 64, 67, 0.3), 0px 1px 3px 1px rgba(60, 64, 67, 0.15);\n",
              "      fill: #174EA6;\n",
              "    }\n",
              "\n",
              "    .colab-df-buttons div {\n",
              "      margin-bottom: 4px;\n",
              "    }\n",
              "\n",
              "    [theme=dark] .colab-df-convert {\n",
              "      background-color: #3B4455;\n",
              "      fill: #D2E3FC;\n",
              "    }\n",
              "\n",
              "    [theme=dark] .colab-df-convert:hover {\n",
              "      background-color: #434B5C;\n",
              "      box-shadow: 0px 1px 3px 1px rgba(0, 0, 0, 0.15);\n",
              "      filter: drop-shadow(0px 1px 2px rgba(0, 0, 0, 0.3));\n",
              "      fill: #FFFFFF;\n",
              "    }\n",
              "  </style>\n",
              "\n",
              "    <script>\n",
              "      const buttonEl =\n",
              "        document.querySelector('#df-d656b69a-a739-4eb9-80b3-fbfe3eb652d1 button.colab-df-convert');\n",
              "      buttonEl.style.display =\n",
              "        google.colab.kernel.accessAllowed ? 'block' : 'none';\n",
              "\n",
              "      async function convertToInteractive(key) {\n",
              "        const element = document.querySelector('#df-d656b69a-a739-4eb9-80b3-fbfe3eb652d1');\n",
              "        const dataTable =\n",
              "          await google.colab.kernel.invokeFunction('convertToInteractive',\n",
              "                                                    [key], {});\n",
              "        if (!dataTable) return;\n",
              "\n",
              "        const docLinkHtml = 'Like what you see? Visit the ' +\n",
              "          '<a target=\"_blank\" href=https://colab.research.google.com/notebooks/data_table.ipynb>data table notebook</a>'\n",
              "          + ' to learn more about interactive tables.';\n",
              "        element.innerHTML = '';\n",
              "        dataTable['output_type'] = 'display_data';\n",
              "        await google.colab.output.renderOutput(dataTable, element);\n",
              "        const docLink = document.createElement('div');\n",
              "        docLink.innerHTML = docLinkHtml;\n",
              "        element.appendChild(docLink);\n",
              "      }\n",
              "    </script>\n",
              "  </div>\n",
              "\n",
              "\n",
              "    <div id=\"df-66ae3c51-be79-4818-bad9-882b37cb2f7f\">\n",
              "      <button class=\"colab-df-quickchart\" onclick=\"quickchart('df-66ae3c51-be79-4818-bad9-882b37cb2f7f')\"\n",
              "                title=\"Suggest charts\"\n",
              "                style=\"display:none;\">\n",
              "\n",
              "<svg xmlns=\"http://www.w3.org/2000/svg\" height=\"24px\"viewBox=\"0 0 24 24\"\n",
              "     width=\"24px\">\n",
              "    <g>\n",
              "        <path d=\"M19 3H5c-1.1 0-2 .9-2 2v14c0 1.1.9 2 2 2h14c1.1 0 2-.9 2-2V5c0-1.1-.9-2-2-2zM9 17H7v-7h2v7zm4 0h-2V7h2v10zm4 0h-2v-4h2v4z\"/>\n",
              "    </g>\n",
              "</svg>\n",
              "      </button>\n",
              "\n",
              "<style>\n",
              "  .colab-df-quickchart {\n",
              "      --bg-color: #E8F0FE;\n",
              "      --fill-color: #1967D2;\n",
              "      --hover-bg-color: #E2EBFA;\n",
              "      --hover-fill-color: #174EA6;\n",
              "      --disabled-fill-color: #AAA;\n",
              "      --disabled-bg-color: #DDD;\n",
              "  }\n",
              "\n",
              "  [theme=dark] .colab-df-quickchart {\n",
              "      --bg-color: #3B4455;\n",
              "      --fill-color: #D2E3FC;\n",
              "      --hover-bg-color: #434B5C;\n",
              "      --hover-fill-color: #FFFFFF;\n",
              "      --disabled-bg-color: #3B4455;\n",
              "      --disabled-fill-color: #666;\n",
              "  }\n",
              "\n",
              "  .colab-df-quickchart {\n",
              "    background-color: var(--bg-color);\n",
              "    border: none;\n",
              "    border-radius: 50%;\n",
              "    cursor: pointer;\n",
              "    display: none;\n",
              "    fill: var(--fill-color);\n",
              "    height: 32px;\n",
              "    padding: 0;\n",
              "    width: 32px;\n",
              "  }\n",
              "\n",
              "  .colab-df-quickchart:hover {\n",
              "    background-color: var(--hover-bg-color);\n",
              "    box-shadow: 0 1px 2px rgba(60, 64, 67, 0.3), 0 1px 3px 1px rgba(60, 64, 67, 0.15);\n",
              "    fill: var(--button-hover-fill-color);\n",
              "  }\n",
              "\n",
              "  .colab-df-quickchart-complete:disabled,\n",
              "  .colab-df-quickchart-complete:disabled:hover {\n",
              "    background-color: var(--disabled-bg-color);\n",
              "    fill: var(--disabled-fill-color);\n",
              "    box-shadow: none;\n",
              "  }\n",
              "\n",
              "  .colab-df-spinner {\n",
              "    border: 2px solid var(--fill-color);\n",
              "    border-color: transparent;\n",
              "    border-bottom-color: var(--fill-color);\n",
              "    animation:\n",
              "      spin 1s steps(1) infinite;\n",
              "  }\n",
              "\n",
              "  @keyframes spin {\n",
              "    0% {\n",
              "      border-color: transparent;\n",
              "      border-bottom-color: var(--fill-color);\n",
              "      border-left-color: var(--fill-color);\n",
              "    }\n",
              "    20% {\n",
              "      border-color: transparent;\n",
              "      border-left-color: var(--fill-color);\n",
              "      border-top-color: var(--fill-color);\n",
              "    }\n",
              "    30% {\n",
              "      border-color: transparent;\n",
              "      border-left-color: var(--fill-color);\n",
              "      border-top-color: var(--fill-color);\n",
              "      border-right-color: var(--fill-color);\n",
              "    }\n",
              "    40% {\n",
              "      border-color: transparent;\n",
              "      border-right-color: var(--fill-color);\n",
              "      border-top-color: var(--fill-color);\n",
              "    }\n",
              "    60% {\n",
              "      border-color: transparent;\n",
              "      border-right-color: var(--fill-color);\n",
              "    }\n",
              "    80% {\n",
              "      border-color: transparent;\n",
              "      border-right-color: var(--fill-color);\n",
              "      border-bottom-color: var(--fill-color);\n",
              "    }\n",
              "    90% {\n",
              "      border-color: transparent;\n",
              "      border-bottom-color: var(--fill-color);\n",
              "    }\n",
              "  }\n",
              "</style>\n",
              "\n",
              "      <script>\n",
              "        async function quickchart(key) {\n",
              "          const quickchartButtonEl =\n",
              "            document.querySelector('#' + key + ' button');\n",
              "          quickchartButtonEl.disabled = true;  // To prevent multiple clicks.\n",
              "          quickchartButtonEl.classList.add('colab-df-spinner');\n",
              "          try {\n",
              "            const charts = await google.colab.kernel.invokeFunction(\n",
              "                'suggestCharts', [key], {});\n",
              "          } catch (error) {\n",
              "            console.error('Error during call to suggestCharts:', error);\n",
              "          }\n",
              "          quickchartButtonEl.classList.remove('colab-df-spinner');\n",
              "          quickchartButtonEl.classList.add('colab-df-quickchart-complete');\n",
              "        }\n",
              "        (() => {\n",
              "          let quickchartButtonEl =\n",
              "            document.querySelector('#df-66ae3c51-be79-4818-bad9-882b37cb2f7f button');\n",
              "          quickchartButtonEl.style.display =\n",
              "            google.colab.kernel.accessAllowed ? 'block' : 'none';\n",
              "        })();\n",
              "      </script>\n",
              "    </div>\n",
              "\n",
              "    </div>\n",
              "  </div>\n"
            ],
            "application/vnd.google.colaboratory.intrinsic+json": {
              "type": "dataframe",
              "summary": "{\n  \"name\": \"data\",\n  \"rows\": 5,\n  \"fields\": [\n    {\n      \"column\": \"age\",\n      \"properties\": {\n        \"dtype\": \"number\",\n        \"std\": 30.543073835370905,\n        \"min\": 11.894809074044478,\n        \"max\": 95.0,\n        \"num_unique_values\": 5,\n        \"samples\": [\n          40.0,\n          11.894809074044478,\n          60.83389297658862\n        ],\n        \"semantic_type\": \"\",\n        \"description\": \"\"\n      }\n    },\n    {\n      \"column\": \"anaemia\",\n      \"properties\": {\n        \"dtype\": \"number\",\n        \"std\": 0.41508283175538657,\n        \"min\": 0.0,\n        \"max\": 1.0,\n        \"num_unique_values\": 4,\n        \"samples\": [\n          0.0,\n          0.49610726813307915,\n          1.0\n        ],\n        \"semantic_type\": \"\",\n        \"description\": \"\"\n      }\n    },\n    {\n      \"column\": \"creatinine_phosphokinase\",\n      \"properties\": {\n        \"dtype\": \"number\",\n        \"std\": 3330.695615908732,\n        \"min\": 23.0,\n        \"max\": 7861.0,\n        \"num_unique_values\": 5,\n        \"samples\": [\n          23.0,\n          970.2878807124363,\n          581.8394648829432\n        ],\n        \"semantic_type\": \"\",\n        \"description\": \"\"\n      }\n    },\n    {\n      \"column\": \"diabetes\",\n      \"properties\": {\n        \"dtype\": \"number\",\n        \"std\": 0.4146174321290906,\n        \"min\": 0.0,\n        \"max\": 1.0,\n        \"num_unique_values\": 4,\n        \"samples\": [\n          0.0,\n          0.49406706510360887,\n          1.0\n        ],\n        \"semantic_type\": \"\",\n        \"description\": \"\"\n      }\n    },\n    {\n      \"column\": \"ejection_fraction\",\n      \"properties\": {\n        \"dtype\": \"number\",\n        \"std\": 27.438842308532315,\n        \"min\": 11.834840741039173,\n        \"max\": 80.0,\n        \"num_unique_values\": 5,\n        \"samples\": [\n          14.0,\n          11.834840741039173,\n          38.08361204013378\n        ],\n        \"semantic_type\": \"\",\n        \"description\": \"\"\n      }\n    },\n    {\n      \"column\": \"high_blood_pressure\",\n      \"properties\": {\n        \"dtype\": \"number\",\n        \"std\": 0.4131169276009405,\n        \"min\": 0.0,\n        \"max\": 1.0,\n        \"num_unique_values\": 4,\n        \"samples\": [\n          0.0,\n          0.4781363790627452,\n          1.0\n        ],\n        \"semantic_type\": \"\",\n        \"description\": \"\"\n      }\n    },\n    {\n      \"column\": \"platelets\",\n      \"properties\": {\n        \"dtype\": \"number\",\n        \"std\": 324707.23995004076,\n        \"min\": 25100.0,\n        \"max\": 850000.0,\n        \"num_unique_values\": 5,\n        \"samples\": [\n          25100.0,\n          97804.23686859828,\n          263358.02926421404\n        ],\n        \"semantic_type\": \"\",\n        \"description\": \"\"\n      }\n    },\n    {\n      \"column\": \"serum_creatinine\",\n      \"properties\": {\n        \"dtype\": \"number\",\n        \"std\": 3.767253031763616,\n        \"min\": 0.5,\n        \"max\": 9.4,\n        \"num_unique_values\": 5,\n        \"samples\": [\n          0.5,\n          1.034510064089853,\n          1.3938795986622072\n        ],\n        \"semantic_type\": \"\",\n        \"description\": \"\"\n      }\n    },\n    {\n      \"column\": \"serum_sodium\",\n      \"properties\": {\n        \"dtype\": \"number\",\n        \"std\": 59.19375873456615,\n        \"min\": 4.412477283909233,\n        \"max\": 148.0,\n        \"num_unique_values\": 5,\n        \"samples\": [\n          113.0,\n          4.412477283909233,\n          136.62541806020067\n        ],\n        \"semantic_type\": \"\",\n        \"description\": \"\"\n      }\n    },\n    {\n      \"column\": \"sex\",\n      \"properties\": {\n        \"dtype\": \"number\",\n        \"std\": 0.41653661065843933,\n        \"min\": 0.0,\n        \"max\": 1.0,\n        \"num_unique_values\": 4,\n        \"samples\": [\n          0.0,\n          0.47813637906274487,\n          1.0\n        ],\n        \"semantic_type\": \"\",\n        \"description\": \"\"\n      }\n    },\n    {\n      \"column\": \"smoking\",\n      \"properties\": {\n        \"dtype\": \"number\",\n        \"std\": 0.4128810643551657,\n        \"min\": 0.0,\n        \"max\": 1.0,\n        \"num_unique_values\": 4,\n        \"samples\": [\n          0.0,\n          0.4676704280567721,\n          1.0\n        ],\n        \"semantic_type\": \"\",\n        \"description\": \"\"\n      }\n    },\n    {\n      \"column\": \"time\",\n      \"properties\": {\n        \"dtype\": \"number\",\n        \"std\": 103.17416987637398,\n        \"min\": 4.0,\n        \"max\": 285.0,\n        \"num_unique_values\": 5,\n        \"samples\": [\n          4.0,\n          77.61420795029342,\n          130.2608695652174\n        ],\n        \"semantic_type\": \"\",\n        \"description\": \"\"\n      }\n    },\n    {\n      \"column\": \"DEATH_EVENT\",\n      \"properties\": {\n        \"dtype\": \"number\",\n        \"std\": 0.4128810643551657,\n        \"min\": 0.0,\n        \"max\": 1.0,\n        \"num_unique_values\": 4,\n        \"samples\": [\n          0.0,\n          0.4676704280567721,\n          1.0\n        ],\n        \"semantic_type\": \"\",\n        \"description\": \"\"\n      }\n    }\n  ]\n}"
            }
          },
          "metadata": {},
          "execution_count": 3
        }
      ]
    },
    {
      "cell_type": "markdown",
      "source": [
        "### Why is normalizing important?\n",
        "\n",
        "Clustering algorithms rely on distance measures, such as Euclidean distance, to group similar data points together. However, when features have different scales, those with larger ranges can dominate distance calculations, leading to biased clustering results. Normalization ensures that all features contribute equally to the clustering process.\n"
      ],
      "metadata": {
        "id": "yR-lWNqnAk7q"
      }
    },
    {
      "cell_type": "code",
      "source": [
        "# We define indices to easily access to categorical (binary)\n",
        "# and numerical features\n",
        "feature_names = data.columns\n",
        "cat_feature_indices = [1, 3, 5, 9, 10, 12]\n",
        "num_feature_indices = [0, 2, 4, 6, 7, 8, 11];\n",
        "\n",
        "# Standardize numerical variables\n",
        "data_num = data.iloc[:, num_feature_indices]\n",
        "scaler = MinMaxScaler()\n",
        "data_num_stand_mat = scaler.fit_transform(data_num)\n",
        "data_num = pd.DataFrame(data_num_stand_mat, columns=data_num.columns)\n",
        "\n",
        "# Binary features as they are\n",
        "data_bin = data.iloc[:, cat_feature_indices]\n",
        "\n",
        "# Append data\n",
        "data_processed = pd.concat([data_num, data_bin], axis=1)\n"
      ],
      "metadata": {
        "id": "QgqnUsx2_JMO"
      },
      "execution_count": null,
      "outputs": []
    },
    {
      "cell_type": "markdown",
      "source": [
        "# i. Hierarchical Clustering"
      ],
      "metadata": {
        "id": "SxcHfQQpXpVS"
      }
    },
    {
      "cell_type": "markdown",
      "source": [
        " Hierarchical clustering builds a hierarchy of clusters by iteratively merging or splitting them. In the agglomerative approach (bottom-up), each data point starts as its own cluster, and the algorithm successively merges the closest clusters until only one remains. The divisive approach (top-down) starts with one large cluster and recursively splits it into smaller clusters. The results are represented in a dendrogram, which helps determine the optimal number of clusters, which is not needed beforehand."
      ],
      "metadata": {
        "id": "-PqRX1YVBRGa"
      }
    },
    {
      "cell_type": "code",
      "source": [
        "# Create the distance matrix. This step takes some time to run. The reason why\n",
        "# is because pairwise_distances() creates a matrix where each entry corresponds\n",
        "# to the distance between two pairs of observation.\n",
        "print(\"Creating distance matrix\")\n",
        "dataDist = pairwise_distances(data_processed, metric=\"euclidean\")\n",
        "\n",
        "# Perform hierarchical clustering\n",
        "dataHierClust = linkage(dataDist, method=\"ward\")"
      ],
      "metadata": {
        "colab": {
          "base_uri": "https://localhost:8080/"
        },
        "id": "7GpfiuoyVKGg",
        "outputId": "111b37c3-729c-4985-d72d-c2dd7e92a23d"
      },
      "execution_count": null,
      "outputs": [
        {
          "output_type": "stream",
          "name": "stdout",
          "text": [
            "Creating distance matrix\n"
          ]
        }
      ]
    },
    {
      "cell_type": "code",
      "source": [
        "# Plot the dendrogram\n",
        "plt.figure(figsize=(10, 7))\n",
        "dendrogram(dataHierClust)\n",
        "plt.title(\"Hierarchical Clustering Dendrogram\")\n",
        "plt.xlabel(\"Data points\")\n",
        "plt.ylabel(\"Distance\")\n",
        "plt.show()"
      ],
      "metadata": {
        "colab": {
          "base_uri": "https://localhost:8080/",
          "height": 641
        },
        "id": "pHFGmE9EVbXP",
        "outputId": "36b2bf45-84e8-4fbc-c7f4-8d1fb0b4e4d2"
      },
      "execution_count": null,
      "outputs": [
        {
          "output_type": "display_data",
          "data": {
            "text/plain": [
              "<Figure size 1000x700 with 1 Axes>"
            ],
            "image/png": "[encoded data removed]"
          },
          "metadata": {}
        }
      ]
    },
    {
      "cell_type": "markdown",
      "source": [
        "What is the right number of clusters? There is no right or wrong answer here. Keep in mind how the the algorithm works: every point starts in its own cluster, and we have a distance threshold that we increase starting from 0. As we increase the threshold, we check for every two clusters whether the distance between them is sufficiently close as determined by the threshold. If it is, we merge the two clusters\n",
        "\n",
        "The height of the dendrogram corresponds to this threshold, and heights at which the dendrogram branches are critical thresholds, where two clusters become one (if you look at it from the bottom to the top) or alternatively one cluster splits into two (if you look at it from the top to the bottom).\n",
        "\n",
        "The notion of \"wiggle room\" is important-- how much the threshold changes before one of the clusters breaks. The \"wiggle room\" at a given level of the tree gives you a sense of how \"robust\" the clusters are at that level; if there is a lot of wiggle room, it means that that threshold must increase by a lot before two clusters merge together. This would suggest that the clusters are highly separated from each other (and make sense as clusters).\n",
        "\n",
        "On the other hand, a small amount of wiggle room suggests that the clusters are not very robust and are not strongly separated from each other (increasing the threshold by a small amount causes two clusters to merge together; this means that those two clusters were not that far from each other).\n",
        "\n",
        "\n",
        "Ideally, we would like to select a number of clusters that has a good amount of wiggle room on the dendrogram. However, depending on the application, we may want to use a larger number of clusters. Here, three clusters would be reasonable, but for demonstration purposes let's go with four clusters."
      ],
      "metadata": {
        "id": "ahJ6TX0DWSsp"
      }
    },
    {
      "cell_type": "code",
      "source": [
        "# Cut the dendrogram into 4 clusters\n",
        "hierGroups = fcluster(dataHierClust, t=4, criterion=\"maxclust\")\n",
        "print(hierGroups)\n",
        "\n",
        "# Number of points in each cluster\n",
        "print(pd.Series(hierGroups).value_counts())"
      ],
      "metadata": {
        "colab": {
          "base_uri": "https://localhost:8080/"
        },
        "id": "H3mywJEVVg3D",
        "outputId": "00e3b9a1-16df-433a-fe02-1a4e45ca0abd"
      },
      "execution_count": null,
      "outputs": [
        {
          "output_type": "stream",
          "name": "stdout",
          "text": [
            "[4 4 4 4 4 4 4 4 4 4 4 4 4 4 3 4 4 4 4 4 3 4 4 2 4 4 4 4 4 4 4 4 4 3 4 4 4\n",
            " 4 2 4 4 4 4 2 4 4 4 4 4 4 4 4 4 4 4 4 2 2 4 4 4 4 1 4 3 4 4 4 4 4 1 2 4 2\n",
            " 4 4 2 2 2 3 3 1 4 2 4 1 2 2 2 2 2 2 3 4 3 2 2 3 3 3 2 2 1 1 3 4 1 2 1 2 4\n",
            " 1 2 4 2 3 3 3 3 4 2 3 3 3 4 3 4 3 2 2 2 2 3 2 1 1 3 2 3 2 4 3 3 3 4 1 1 1\n",
            " 4 2 4 2 2 2 3 2 3 1 2 2 2 2 2 4 4 4 1 4 3 3 2 1 2 2 2 2 1 3 2 1 2 4 4 4 4\n",
            " 4 4 4 3 3 2 3 2 2 4 4 3 3 3 2 2 2 2 2 2 3 3 1 3 3 2 2 1 4 2 2 3 4 2 3 4 1\n",
            " 2 1 2 3 2 2 3 3 4 1 2 2 2 2 2 1 3 2 3 2 1 3 2 2 4 1 1 3 3 3 2 3 2 2 3 2 2\n",
            " 1 1 3 4 3 2 2 4 2 3 2 2 3 3 1 2 3 3 2 3 3 2 1 1 1 2 2 1 3 3 3 3 1 2 2 2 3\n",
            " 3 1 1]\n",
            "4    96\n",
            "2    95\n",
            "3    70\n",
            "1    38\n",
            "Name: count, dtype: int64\n"
          ]
        }
      ]
    },
    {
      "cell_type": "markdown",
      "source": [
        "Now let's try to interpret the clusters: How can we get a sense of what the clusters mean/what they correspond to?"
      ],
      "metadata": {
        "id": "JF8wwkypWrPX"
      }
    },
    {
      "cell_type": "code",
      "source": [
        "# Individual variable averages.\n",
        "# For example, we can examine what is the average age in each group:\n",
        "\n",
        "print(data.groupby(hierGroups)['age'].mean())"
      ],
      "metadata": {
        "colab": {
          "base_uri": "https://localhost:8080/"
        },
        "id": "cOuQC-4rWwG-",
        "outputId": "6bdc5d3b-8db8-4e99-b95b-cac6abb2e5dd"
      },
      "execution_count": null,
      "outputs": [
        {
          "output_type": "stream",
          "name": "stdout",
          "text": [
            "1    58.184211\n",
            "2    59.210526\n",
            "3    58.466671\n",
            "4    65.215281\n",
            "Name: age, dtype: float64\n"
          ]
        }
      ]
    },
    {
      "cell_type": "code",
      "source": [
        "print(data.groupby(hierGroups)['high_blood_pressure'].mean())"
      ],
      "metadata": {
        "colab": {
          "base_uri": "https://localhost:8080/"
        },
        "id": "cs4MW3STFFPw",
        "outputId": "38a82128-d944-4248-850f-7fa7fc06f194"
      },
      "execution_count": null,
      "outputs": [
        {
          "output_type": "stream",
          "name": "stdout",
          "text": [
            "1    0.000000\n",
            "2    0.421053\n",
            "3    0.371429\n",
            "4    0.406250\n",
            "Name: high_blood_pressure, dtype: float64\n"
          ]
        }
      ]
    },
    {
      "cell_type": "markdown",
      "source": [
        "Cluster 1 contains people without high blood pressure. Is this practical? We would need to examine evey variable separately.\n"
      ],
      "metadata": {
        "id": "MoFhq2ZwW7ne"
      }
    },
    {
      "cell_type": "markdown",
      "source": [
        "# ii. K-means Clustering"
      ],
      "metadata": {
        "id": "tgcR6nr9XjLf"
      }
    },
    {
      "cell_type": "markdown",
      "source": [
        "An alternative to hierarchical clustering is k-means clustering. Recall that k-means is different from hierarchical clustering.\n",
        "1. The number of clusters is specified up front.\n",
        "2. Each point is randomly assigned to one of the clusters.\n",
        "3. The centroid of each cluster is computed.\n",
        "4. Each point is then re-assigned to the cluster whose centroid is closest to the point.\n",
        "5. The cluster centroids are re-computed, and we go back to step 4.\n",
        "\n",
        "We terminate when the cluster assignments no longer change or we reach the maximum number of iterations.\n"
      ],
      "metadata": {
        "id": "FkAxSEfpXdeP"
      }
    },
    {
      "cell_type": "markdown",
      "source": [
        "Before starting, we need to choose the number of clusters to use. Do we always know what the best number is? How do we define it?\n",
        "\n",
        "One way is to use the elbow method. The elbow method plots the within-cluster sum of squares (WCSS) against the number of clusters. Ideally, we want WCSS to be small, because it measures how tightly the data points in each cluster are grouped around the cluster's centroid. The optimal number of clusters is found at the \"elbow point,\" where adding more clusters does not significantly decrease WCSS.\n"
      ],
      "metadata": {
        "id": "zSwShiq4NqRP"
      }
    },
    {
      "cell_type": "code",
      "source": [
        "### Elbow Method for Finding the Optimal k\n",
        "cluster_range = range(2, 10)\n",
        "wcss = []\n",
        "for k in cluster_range:\n",
        "    kmeans = KMeans(n_clusters=k, random_state=88)\n",
        "    kmeans.fit(data_processed)\n",
        "    wcss.append(kmeans.inertia_)\n",
        "\n",
        "# Plot Elbow Method\n",
        "plt.figure(figsize=(8, 5))\n",
        "plt.plot(cluster_range, wcss, marker='o')\n",
        "plt.xlabel('Number of Clusters')\n",
        "plt.ylabel('WCSS (Within-Cluster Sum of Squares)')\n",
        "plt.title('Elbow Method for Optimal k')\n",
        "plt.show()"
      ],
      "metadata": {
        "colab": {
          "base_uri": "https://localhost:8080/",
          "height": 487
        },
        "id": "slxQ1F6DN0KZ",
        "outputId": "f6cdec3e-d5bb-466e-ed78-c2f6d033f7bf"
      },
      "execution_count": null,
      "outputs": [
        {
          "output_type": "display_data",
          "data": {
            "text/plain": [
              "<Figure size 800x500 with 1 Axes>"
            ],
            "image/png": "[encoded data removed]"
          },
          "metadata": {}
        }
      ]
    },
    {
      "cell_type": "markdown",
      "source": [
        "We observe that the sharpest drop happens between 2 to 5 clusters, but after 5 clusters, the decrease in WCSS slows down. So, 5 seems like a reasonable number of clusters to use. For simplicity, we will go with 4 for now."
      ],
      "metadata": {
        "id": "BU7ABhIdN4RT"
      }
    },
    {
      "cell_type": "code",
      "source": [
        "# Set the seed for reproducibility\n",
        "np.random.seed(88)\n",
        "\n",
        "# Run the k-means algorithm for 4 clusters\n",
        "dataKMeans = KMeans(n_clusters=4, random_state=88).fit(data_processed)\n",
        "kmeansGroups = dataKMeans.labels_\n",
        "\n",
        "# Number of points in each cluster\n",
        "print(pd.Series(kmeansGroups).value_counts())"
      ],
      "metadata": {
        "colab": {
          "base_uri": "https://localhost:8080/"
        },
        "id": "qNdCB-YsVlZ_",
        "outputId": "f70d23e3-777e-493e-e573-548f2e0970a9"
      },
      "execution_count": null,
      "outputs": [
        {
          "output_type": "stream",
          "name": "stdout",
          "text": [
            "1    99\n",
            "3    80\n",
            "0    61\n",
            "2    59\n",
            "Name: count, dtype: int64\n"
          ]
        }
      ]
    },
    {
      "cell_type": "code",
      "source": [
        "# Break the data into clusters\n",
        "KmeansClusters = [data[kmeansGroups == i] for i in range(4)]"
      ],
      "metadata": {
        "id": "lQ3QXuFZVrVs"
      },
      "execution_count": null,
      "outputs": []
    },
    {
      "cell_type": "markdown",
      "source": [
        "Note -- kmeans and hierarchical clustering are trying to accomplish similar things, but are not the same. In particular, the cluster assignments you get from k-means clustering will in general *not* be identical as the ones from hierarchical clustering, though they may be similar.\n"
      ],
      "metadata": {
        "id": "wic4ZaZHX1fR"
      }
    },
    {
      "cell_type": "code",
      "source": [
        "# Individual variable averages.\n",
        "\n",
        "print(data.groupby(kmeansGroups)['age'].mean())"
      ],
      "metadata": {
        "colab": {
          "base_uri": "https://localhost:8080/"
        },
        "id": "oFbgUF_vH1-g",
        "outputId": "44283178-d4ce-434b-fafa-cd07284f3845"
      },
      "execution_count": null,
      "outputs": [
        {
          "output_type": "stream",
          "name": "stdout",
          "text": [
            "0    58.590164\n",
            "1    58.360273\n",
            "2    64.689271\n",
            "3    62.762500\n",
            "Name: age, dtype: float64\n"
          ]
        }
      ]
    },
    {
      "cell_type": "code",
      "source": [
        "print(data.groupby(kmeansGroups)['high_blood_pressure'].mean())"
      ],
      "metadata": {
        "colab": {
          "base_uri": "https://localhost:8080/"
        },
        "id": "NWcItEigH7bf",
        "outputId": "9fc270be-5d7c-4fc5-d205-f00c89b03546"
      },
      "execution_count": null,
      "outputs": [
        {
          "output_type": "stream",
          "name": "stdout",
          "text": [
            "0    0.065574\n",
            "1    0.212121\n",
            "2    0.000000\n",
            "3    1.000000\n",
            "Name: high_blood_pressure, dtype: float64\n"
          ]
        }
      ]
    },
    {
      "cell_type": "markdown",
      "source": [
        "Note that the order of the clusters is not meaningful."
      ],
      "metadata": {
        "id": "PfeCcgvKYTJZ"
      }
    },
    {
      "cell_type": "markdown",
      "source": [
        "# iii.Interpretable clustering"
      ],
      "metadata": {
        "id": "fV6kPDH3Ijaj"
      }
    },
    {
      "cell_type": "markdown",
      "source": [
        "Interpretable clustering, such as fitting a decision tree on clusters, is valuable because of the transparency: It provides clear, understandable rules for how clusters are formed, making it easier for domain experts (e.g., doctors) to trust and use the model.\n"
      ],
      "metadata": {
        "id": "PJkV0uWcSm8w"
      }
    },
    {
      "cell_type": "markdown",
      "source": [
        "How do we perform interpretable clustering?\n",
        "\n",
        "- Fit a Decision Tree: Train a decision tree on the original features, using the cluster labels as the target variable.\n",
        "\n",
        "- Interpret the Tree: Analyze the tree structure to understand how features split the data into clusters.\n",
        "\n",
        "- Validate the Model: Evaluate the tree's performance using metrics like accuracy or Gini impurity to ensure it accurately represents the clusters."
      ],
      "metadata": {
        "id": "sUrBEPXLSjjd"
      }
    },
    {
      "cell_type": "code",
      "source": [
        "kmeansGroups"
      ],
      "metadata": {
        "colab": {
          "base_uri": "https://localhost:8080/"
        },
        "id": "1CTyqHeRNrz9",
        "outputId": "193bc3ac-29ba-4de4-85c1-6b71014804ff"
      },
      "execution_count": null,
      "outputs": [
        {
          "output_type": "execute_result",
          "data": {
            "text/plain": [
              "array([3, 2, 2, 2, 1, 3, 2, 0, 2, 3, 3, 3, 2, 3, 3, 2, 2, 2, 3, 1, 3, 1,\n",
              "       3, 1, 1, 0, 3, 3, 2, 0, 3, 2, 1, 1, 3, 2, 2, 1, 1, 1, 3, 3, 3, 3,\n",
              "       1, 0, 3, 3, 3, 2, 3, 3, 1, 1, 1, 2, 0, 0, 3, 3, 3, 3, 0, 2, 1, 2,\n",
              "       1, 2, 2, 2, 0, 0, 2, 0, 2, 2, 3, 1, 3, 3, 1, 0, 1, 3, 1, 2, 3, 3,\n",
              "       3, 3, 0, 1, 1, 2, 1, 3, 3, 1, 1, 1, 2, 3, 0, 0, 3, 3, 2, 1, 0, 0,\n",
              "       2, 0, 1, 2, 3, 1, 1, 1, 1, 2, 3, 1, 1, 3, 2, 1, 1, 1, 3, 1, 3, 1,\n",
              "       3, 3, 0, 2, 1, 2, 1, 3, 2, 1, 1, 3, 3, 0, 0, 2, 2, 3, 3, 3, 3, 0,\n",
              "       3, 1, 1, 0, 2, 3, 3, 0, 0, 1, 2, 1, 0, 2, 1, 3, 0, 0, 3, 2, 0, 0,\n",
              "       0, 1, 1, 0, 1, 0, 0, 3, 2, 2, 2, 1, 1, 3, 1, 1, 1, 0, 3, 2, 1, 1,\n",
              "       1, 0, 2, 3, 3, 3, 0, 1, 1, 2, 1, 1, 0, 3, 0, 1, 3, 3, 3, 3, 1, 1,\n",
              "       2, 0, 0, 2, 1, 1, 0, 3, 1, 1, 2, 0, 2, 0, 0, 3, 3, 2, 1, 0, 1, 0,\n",
              "       0, 3, 1, 1, 2, 2, 0, 1, 3, 1, 3, 1, 3, 3, 1, 3, 1, 0, 2, 1, 2, 1,\n",
              "       1, 0, 0, 1, 1, 1, 0, 1, 1, 2, 0, 3, 1, 1, 1, 1, 1, 0, 0, 0, 2, 1,\n",
              "       2, 1, 1, 1, 1, 2, 0, 0, 0, 1, 1, 0, 0], dtype=int32)"
            ]
          },
          "metadata": {},
          "execution_count": 15
        }
      ]
    },
    {
      "cell_type": "code",
      "source": [
        "# Train a Decision Tree (CART)\n",
        "tree = DecisionTreeClassifier(max_depth=3, random_state=42)  # Small tree for visualization\n",
        "tree.fit(data, kmeansGroups)\n",
        "\n",
        "# Visualize the decision tree\n",
        "plt.figure(figsize=(15, 10))\n",
        "plot_tree(tree, filled=True, feature_names=data.columns.tolist(), class_names=[str(i) for i in range(5)])\n",
        "plt.show()"
      ],
      "metadata": {
        "colab": {
          "base_uri": "https://localhost:8080/",
          "height": 731
        },
        "id": "LBdF9bFgIuB-",
        "outputId": "434c8556-9e9c-48cc-e37f-02c475ae1818"
      },
      "execution_count": null,
      "outputs": [
        {
          "output_type": "display_data",
          "data": {
            "text/plain": [
              "<Figure size 1500x1000 with 1 Axes>"
            ],
            "image/png": "[encoded data removed]"
          },
          "metadata": {}
        }
      ]
    },
    {
      "cell_type": "markdown",
      "source": [
        "The decision tree splits the data into clusters based on features like high blood pressure, smoking, diabetes, sex, and DEATH_EVENT. Each leaf node represents a cluster, and the class indicates the dominant cluster label for that group. Here's a breakdown of the clusters:\n",
        "\n",
        "- Cluster 0: Patients with no high blood pressure but who smoke. Smoking increases their risk, placing them in a higher-risk cluster.\n",
        "\n",
        "- Cluster 1: Patients with high blood pressure and diabetes. This group is at the highest risk due to multiple comorbidities.\n",
        "\n",
        "- Cluster 2: Patients with no high blood pressure and no diabetes. This group is likely healthier, with lower risks of complications.\n",
        "\n",
        "- Cluster 3: Patients with high blood pressure but no diabetes. This group has moderate risk, primarily due to high blood pressure."
      ],
      "metadata": {
        "id": "f5PDJ2fNP1zO"
      }
    },
    {
      "cell_type": "markdown",
      "source": [
        "How good is the tree we trained? We can check its accuracy at \"predicting\" the correct cluster label."
      ],
      "metadata": {
        "id": "qho3_P0dQPCs"
      }
    },
    {
      "cell_type": "code",
      "source": [
        "predicted_clusters = tree.predict(data)\n",
        "accuracy = accuracy_score(kmeansGroups, predicted_clusters)\n",
        "\n",
        "print(f\"The accuracy of our CART model is: {accuracy}\")"
      ],
      "metadata": {
        "colab": {
          "base_uri": "https://localhost:8080/"
        },
        "id": "djSthoBHQV4-",
        "outputId": "c626e042-bb73-468f-c081-6af48599de89"
      },
      "execution_count": null,
      "outputs": [
        {
          "output_type": "stream",
          "name": "stdout",
          "text": [
            "The accuracy of our CART model is: 0.862876254180602\n"
          ]
        }
      ]
    },
    {
      "cell_type": "markdown",
      "source": [
        "The performance of the model, although not perfect, indicates that the tree successfully captures the different clusters."
      ],
      "metadata": {
        "id": "1VfZFpTzQxh5"
      }
    },
    {
      "cell_type": "markdown",
      "source": [
        "So far, we've talked about using clustering for understanding a dataset. But what do you do when you get new data?\n",
        "\n",
        "For example: suppose we have built k-means clusters for a set of existing patients (the \"old\" data). We now have a *new* set of patients. Is it possible to determine which of our existing clusters those patients belong to? YES!\n",
        "\n",
        "To demonstrate this, let's split the data into a training and a testing data set. We'll use the training data set to come up with the clusters -- this is our \"old\" data. We'll then treat the second data set as \"new\" data. The goal is to assign each \"new\" observation to one of our \"old\" clusters.\n",
        "\n",
        "\n",
        "REMEMBER: clustering is NOT a classification/prediction method. We have NO dependent variable here. We have NO way to evaluate the \"accuracy\" of our clusters.\n"
      ],
      "metadata": {
        "id": "2I-YlN_tYvEn"
      }
    },
    {
      "cell_type": "markdown",
      "source": [
        "# iv. Clustering \"new\" data"
      ],
      "metadata": {
        "id": "tI8zzQkUY4pb"
      }
    },
    {
      "cell_type": "code",
      "source": [
        "# Split the data into training and testing sets\n",
        "data_train, data_test = train_test_split(data_processed, test_size=0.3, random_state=88)"
      ],
      "metadata": {
        "id": "Y6Y-gqjqVuE7"
      },
      "execution_count": null,
      "outputs": []
    },
    {
      "cell_type": "code",
      "source": [
        "# Run the k-means algorithm on the training set\n",
        "dataKMeans_train = KMeans(n_clusters=4, random_state=88).fit(data_train.iloc[:, 1:])"
      ],
      "metadata": {
        "id": "lXJK8Q5GVvXt"
      },
      "execution_count": null,
      "outputs": []
    },
    {
      "cell_type": "code",
      "source": [
        "# Assign clusters to the test set\n",
        "newClusterAssignment = dataKMeans_train.predict(data_test.iloc[:, 1:])\n",
        "print(pd.Series(newClusterAssignment).value_counts())"
      ],
      "metadata": {
        "colab": {
          "base_uri": "https://localhost:8080/"
        },
        "id": "-qTZDaeEVwUI",
        "outputId": "0251328e-8d9b-4a7a-d855-486c43f62218"
      },
      "execution_count": null,
      "outputs": [
        {
          "output_type": "stream",
          "name": "stdout",
          "text": [
            "2    28\n",
            "3    25\n",
            "1    21\n",
            "0    16\n",
            "Name: count, dtype: int64\n"
          ]
        }
      ]
    },
    {
      "cell_type": "markdown",
      "source": [
        "# Conclusion\n",
        "\n",
        "## When to Use Each Method\n",
        "- **Use Hierarchical Clustering** when the number of clusters is unknown, interpretability is important, or when dealing with smaller datasets.\n",
        "- **Use K-Means** when working with large datasets where efficiency is a priority, and the number of clusters is predefined.\n",
        "\n",
        "## Interpretable Clustering\n",
        "Once clusters are formed, decision trees can be trained on the cluster assignments to provide interpretability. This approach allows us to understand which features are most important in defining clusters.\n"
      ],
      "metadata": {
        "id": "MJYwGqrrKedo"
      }
    },
    {
      "cell_type": "code",
      "source": [],
      "metadata": {
        "id": "k8KteM_HVwsR"
      },
      "execution_count": null,
      "outputs": []
    }
  ]
}
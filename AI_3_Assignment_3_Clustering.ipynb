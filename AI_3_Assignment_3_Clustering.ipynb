{
  "nbformat": 4,
  "nbformat_minor": 0,
  "metadata": {
    "colab": {
      "provenance": [],
      "include_colab_link": true
    },
    "kernelspec": {
      "name": "python3",
      "display_name": "Python 3"
    },
    "language_info": {
      "name": "python"
    }
  },
  "cells": [
    {
      "cell_type": "markdown",
      "metadata": {
        "id": "view-in-github",
        "colab_type": "text"
      },
      "source": [
        "<a href=\"https://colab.research.google.com/github/oleksandr-maksymikhin/mit-ai-course/blob/main/AI_3_Assignment_3_Clustering.ipynb\" target=\"_parent\"><img src=\"https://colab.research.google.com/assets/colab-badge.svg\" alt=\"Open In Colab\"/></a>"
      ]
    },
    {
      "cell_type": "markdown",
      "source": [
        "# Market Segmentation For Airlines\n",
        "Market segmentation is a strategy that divides a broad target market of customers into smaller, more similar groups, and then designs a marketing strategy specifically for each group. Clustering is a common technique for market segmentation since it automatically finds similar groups given a data set.\n",
        "\n",
        "In this problem, we'll see how clustering can be used to find similar groups of customers who belong to an airline's frequent flyer program. The airline is trying to learn more about its customers so that it can target different customer segments with different types of mileage offers.\n",
        "\n",
        "The file AirlinesCluster.csv contains information on 3,999 members of the frequent flyer program. This data comes from the textbook \"Data Mining for Business Intelligence,\" by Galit Shmueli, Nitin R. Patel, and Peter C. Bruce. For more information, see the website for the book.\n",
        "\n",
        "There are seven different variables in the dataset, described below:\n",
        "\n",
        "\n",
        "*   **Balance** = number of miles eligible for award travel\n",
        "*   **QualMiles** = number of miles qualifying for TopFlight status\n",
        "*   **BonusMiles**= number of miles earned from non-flight bonus transactions in the past 12 months\n",
        "*   **BonusTrans** = number of non-flight bonus transactions in the past 12 months\n",
        "*   **FlightMiles** = number of flight miles in the past 12 months\n",
        "*   **FlightTrans** = number of flight transactions in the past 12 months\n",
        "*   **DaysSinceEnroll** = number of days since enrolled in the frequent flyer program"
      ],
      "metadata": {
        "id": "pdjhYxFEooeX"
      }
    },
    {
      "cell_type": "markdown",
      "source": [
        "# Problem 1.1 - Normalizing the Data\n",
        "\n",
        "Read the dataset AirlinesCluster.csv into Python and call it \"airlines\".\n",
        "\n",
        "Looking at the summary of airlines, which TWO variables have (on average) the smallest values? Which TWO variables have (on average) the largest values?"
      ],
      "metadata": {
        "id": "flMy_xMHpBQ0"
      }
    },
    {
      "cell_type": "code",
      "execution_count": null,
      "metadata": {
        "id": "4EjbhJcwokKu"
      },
      "outputs": [],
      "source": [
        "import pandas as pd\n",
        "import numpy as np\n",
        "from sklearn.preprocessing import StandardScaler\n",
        "from sklearn.cluster import KMeans, AgglomerativeClustering\n",
        "from scipy.spatial.distance import pdist\n",
        "from scipy.cluster.hierarchy import linkage, dendrogram, fcluster\n",
        "import matplotlib.pyplot as plt\n",
        "\n",
        "np.random.seed(42)\n",
        "\n",
        "\n",
        "# Load Data\n",
        "airlines = pd.read_csv(\"AirlinesCluster.csv\")\n",
        "print(airlines.describe())"
      ]
    },
    {
      "cell_type": "markdown",
      "source": [
        "## Problem 1.2 - Normalizing the Data\n",
        "\n",
        "In this problem, we will normalize our data before we run the clustering algorithms. Why is it important to normalize the data before clustering?\n",
        "\n",
        "\n",
        "*   If we don't normalize the data, the clustering algorithms will not work.\n",
        "*   If we don't normalize the data, it will be hard to interpret the results of the clustering.\n",
        "*   If we don't normalize the data, the clustering will be dominated by the variables that are on a larger scale.\n",
        "*   If we don't normalize the data, the clustering will be dominated by the variables that are on a smaller scale.\n",
        "\n",
        "\n"
      ],
      "metadata": {
        "id": "sgadELKey5t_"
      }
    },
    {
      "cell_type": "markdown",
      "source": [
        "## Problem 1.3 - Normalizing the Data\n",
        "\n",
        "Let's go ahead and normalize our data and create a normalized data frame called \"airlinesNorm\".\n",
        "\n",
        "If you look at the summary of airlinesNorm, you should see that all of the variables now have mean zero.\n",
        "\n",
        "In the normalized data, which variable has the largest maximum value? Which variable has the smallest minimum value?"
      ],
      "metadata": {
        "id": "L25Pk0bAzH08"
      }
    },
    {
      "cell_type": "code",
      "source": [
        "# Normalize Data\n",
        "airlines_norm = (airlines - airlines.mean()) / airlines.std()"
      ],
      "metadata": {
        "id": "O1CtuyodyZQz"
      },
      "execution_count": null,
      "outputs": []
    },
    {
      "cell_type": "code",
      "source": [
        "list(zip(airlines.columns, airlines_norm.max(axis = 0)))"
      ],
      "metadata": {
        "id": "ZsxkZu3bzeID"
      },
      "execution_count": null,
      "outputs": []
    },
    {
      "cell_type": "code",
      "source": [
        "list(zip(airlines.columns, airlines_norm.min(axis = 0)))"
      ],
      "metadata": {
        "id": "UrzQOCCizwKW"
      },
      "execution_count": null,
      "outputs": []
    },
    {
      "cell_type": "markdown",
      "source": [
        "## Problem 2.1 - Hierarchical Clustering\n",
        "\n",
        "Compute the distances between data points (using euclidean distance) and then run the Hierarchical clustering algorithm on the normalized data. It may take a few minutes for the commands to finish since the dataset has a large number of observations for hierarchical clustering.\n",
        "\n",
        "Then, plot the dendrogram of the hierarchical clustering process. Suppose the airline is looking for somewhere between 2 and 10 clusters. According to the dendrogram, which of the following is a potential choice for the number of clusters? Select all that apply.\n",
        "*   2\n",
        "*   3\n",
        "*   6\n",
        "*   7\n",
        "\n"
      ],
      "metadata": {
        "id": "JTWP71zez-xU"
      }
    },
    {
      "cell_type": "code",
      "source": [
        "# Hierarchical Clustering\n",
        "airline_dist = pdist(airlines_norm, metric=\"euclidean\")\n",
        "airline_dist = np.round(airline_dist, 7)\n",
        "\n",
        "# linkage_matrix = linkage(airline_dist, method=\"ward\")\n",
        "\n",
        "from scipy.spatial.distance import squareform\n",
        "linkage_matrix = linkage(airline_dist, method=\"ward\")"
      ],
      "metadata": {
        "id": "kqewwct4zdWb"
      },
      "execution_count": null,
      "outputs": []
    },
    {
      "cell_type": "code",
      "source": [
        "# Plot Dendrogram\n",
        "plt.figure(figsize=(12, 6))\n",
        "dendrogram(linkage_matrix)\n",
        "plt.title(\"Hierarchical Clustering Dendrogram\")\n",
        "plt.xlabel(\"Sample Index\")\n",
        "plt.ylabel(\"Distance\")\n",
        "plt.show()"
      ],
      "metadata": {
        "id": "Vqo4HJrt0R-P"
      },
      "execution_count": null,
      "outputs": []
    },
    {
      "cell_type": "markdown",
      "source": [
        "## Problem 2.2 - Hierarchical Clustering\n",
        "\n",
        "Suppose that after looking at the dendrogram and discussing with the marketing department, the airline decides to proceed with 5 clusters. Divide the data points into 5 clusters by using the cutree function. How many data points are in Cluster 1?"
      ],
      "metadata": {
        "id": "5xrH61Tn0Vxq"
      }
    },
    {
      "cell_type": "code",
      "source": [
        "# Cut Tree into Clusters\n",
        "cluster_groups = fcluster(linkage_matrix, 5, criterion='maxclust')\n",
        "print(pd.Series(cluster_groups).value_counts())"
      ],
      "metadata": {
        "id": "S_NGSD5U0S7T"
      },
      "execution_count": null,
      "outputs": []
    },
    {
      "cell_type": "markdown",
      "source": [
        "## Problem 2.3 - Hierarchical Clustering\n",
        "\n",
        "Now, compare the average values in each of the variables for the 5 clusters (the centroids of the clusters). You may want to compute the average values of the unnormalized data so that it is easier to interpret.\n",
        "\n",
        "Compared to the other clusters, Cluster 1 has the largest average values in which variables (if any)?"
      ],
      "metadata": {
        "id": "vt2mo8uH-rtu"
      }
    },
    {
      "cell_type": "code",
      "source": [
        "# Compute Cluster Means\n",
        "cluster_df = pd.DataFrame(airlines, index=range(len(airlines)))\n",
        "cluster_df[\"Cluster\"] = cluster_groups\n",
        "cluster_means = cluster_df.groupby(\"Cluster\").mean()\n",
        "print(cluster_means)\n"
      ],
      "metadata": {
        "id": "YG5Pfkq50anl"
      },
      "execution_count": null,
      "outputs": []
    },
    {
      "cell_type": "markdown",
      "source": [
        "How would you describe the customers in Cluster 1?\n",
        "*   Relatively new customers who don't use the airline very often.\n",
        "*   Median frequency travels and primarily takes elite status flights.\n",
        "*   Customers who have accumulated a large amount of miles, and the ones with the largest number of flight transactions.\n",
        "*   Relatively loyal customers who have not traveled that much.\n",
        "*   Loyal customers who have accumulated a lot of points and awards to be redeemed through both flight and non-flight transactions."
      ],
      "metadata": {
        "id": "DJLnZo9nLW7W"
      }
    },
    {
      "cell_type": "markdown",
      "source": [
        "## Problem 2.4 - Hierarchical Clustering\n",
        "\n",
        "Compared to the other clusters, Cluster 2 has the largest average values in which variables (if any)?"
      ],
      "metadata": {
        "id": "wB3RigHEMiFI"
      }
    },
    {
      "cell_type": "markdown",
      "source": [
        "How would you describe the customers in Cluster 2?\n",
        "*   Relatively new customers who don't use the airline very often.\n",
        "*   Median frequency travels and primarily takes elite status flights.\n",
        "*   Customers who have accumulated a large amount of miles, and the ones with the largest number of flight transactions.\n",
        "*   Relatively loyal customers who have not traveled that much.\n",
        "*   Loyal customers who have accumulated a lot of points and awards to be redeemed through both flight and non-flight transactions."
      ],
      "metadata": {
        "id": "fzkKPRIsMtdQ"
      }
    },
    {
      "cell_type": "markdown",
      "source": [
        "## Problem 2.5 - Hierarchical Clustering\n",
        "\n",
        "Compared to the other clusters, Cluster 3 has the largest average values in which variables (if any)?"
      ],
      "metadata": {
        "id": "gU9Y9V6lM_Pg"
      }
    },
    {
      "cell_type": "markdown",
      "source": [
        "How would you describe the customers in Cluster 3?\n",
        "*   Relatively new customers who don't use the airline very often.\n",
        "*   Median frequency travels and primarily takes elite status flights.\n",
        "*   Customers who have accumulated a large amount of miles, and the ones with the largest number of flight transactions.\n",
        "*   Relatively loyal customers who have not traveled that much.\n",
        "*   Loyal customers who have accumulated a lot of points and awards to be redeemed through both flight and non-flight transactions."
      ],
      "metadata": {
        "id": "aKgO-QEhNPNH"
      }
    },
    {
      "cell_type": "markdown",
      "source": [
        "## Problem 2.6 - Hierarchical Clustering\n",
        "\n",
        "How would you describe the customers in Cluster 4?\n",
        "*   Relatively new customers who don't use the airline very often.\n",
        "*   Median frequency travels and primarily takes elite status flights.\n",
        "*   Customers who have accumulated a large amount of miles, and the ones with the largest number of flight transactions.\n",
        "*   Relatively loyal customers who have not traveled that much.\n",
        "*   Loyal customers who have accumulated a lot of points and awards to be redeemed through both flight and non-flight transactions."
      ],
      "metadata": {
        "id": "62QKvmwbOHiR"
      }
    },
    {
      "cell_type": "markdown",
      "source": [
        "## Problem 2.7 - Hierarchical Clustering\n",
        "\n",
        "Compared to the other clusters, Cluster 5 has the smallest average values in which variables (if any)?"
      ],
      "metadata": {
        "id": "dcIngbjaOxIS"
      }
    },
    {
      "cell_type": "markdown",
      "source": [
        "How would you describe the customers in Cluster 5?\n",
        "*   Relatively new customers who don't use the airline very often.\n",
        "*   Median frequency travels and primarily takes elite status flights.\n",
        "*   Customers who have accumulated a large amount of miles, and the ones with the largest number of flight transactions.\n",
        "*   Relatively loyal customers who have not traveled that much.\n",
        "*   Loyal customers who have accumulated a lot of points and awards to be redeemed through both flight and non-flight transactions."
      ],
      "metadata": {
        "id": "zaGzue6jOoUJ"
      }
    },
    {
      "cell_type": "markdown",
      "source": [
        "## Problem 3.1 - K-Means Clustering\n",
        "\n",
        "Now run the k-means clustering algorithm on the normalized data, again creating 5 clusters. Set the seed to 88 right before running the clustering algorithm, and set the argument max_iter to 1000.\n",
        "\n",
        "How many clusters have more than 1,000 observations?"
      ],
      "metadata": {
        "id": "dAIFVT4APD6X"
      }
    },
    {
      "cell_type": "code",
      "source": [
        "# K-Means Clustering\n",
        "np.random.seed(88)\n",
        "kmeans = KMeans(n_clusters=5, max_iter=1000, random_state=88)\n",
        "kmeans.fit(airlines_norm)\n",
        "print(pd.Series(kmeans.labels_).value_counts())"
      ],
      "metadata": {
        "id": "4zhUzhUHNOob"
      },
      "execution_count": null,
      "outputs": []
    },
    {
      "cell_type": "markdown",
      "source": [
        "## Problem 3.2 - K-Means Clustering\n",
        "\n",
        "Now, compare the cluster centroids to each other either by dividing the data points into groups, or by looking at the output of cluster_centers_, (Note that the output of cluster_centers_ will be for the normalized data. If you want to look at the average values for the unnormalized data, you need to look at the original data like we did for hierarchical clustering.)\n",
        "\n",
        "Do you expect Cluster 1 of the K-Means clustering output to necessarily be similar to Cluster 1 of the Hierarchical clustering output?\n",
        "*   Yes, because the clusters are displayed in order of size, so the largest cluster will always be first.\n",
        "*   Yes, because the clusters are displayed according to the properties of the centroid, so the cluster order will be similar.\n",
        "*   No, because cluster ordering is not meaningful in either k-means clustering or hierarchical clustering.\n",
        "*   No, because the clusters produced by the k-means algorithm will never be similar to the clusters produced by the Hierarchical algorithm.\n"
      ],
      "metadata": {
        "id": "ZiOV1_klPs6Q"
      }
    },
    {
      "cell_type": "code",
      "source": [
        "# K-Means Cluster Centers\n",
        "print(pd.DataFrame(kmeans.cluster_centers_, columns=airlines.columns))"
      ],
      "metadata": {
        "id": "lkvkRKns-002"
      },
      "execution_count": null,
      "outputs": []
    },
    {
      "cell_type": "code",
      "source": [],
      "metadata": {
        "id": "KPStx5i_Ow9s"
      },
      "execution_count": null,
      "outputs": []
    }
  ]
}